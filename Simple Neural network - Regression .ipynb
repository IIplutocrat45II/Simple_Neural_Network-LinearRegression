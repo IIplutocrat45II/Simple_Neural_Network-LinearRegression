{
 "cells": [
  {
   "cell_type": "markdown",
   "metadata": {},
   "source": [
    "# Neural network : Regression"
   ]
  },
  {
   "cell_type": "markdown",
   "metadata": {},
   "source": [
    "### Importing dependencies"
   ]
  },
  {
   "cell_type": "code",
   "execution_count": 1,
   "metadata": {},
   "outputs": [
    {
     "name": "stderr",
     "output_type": "stream",
     "text": [
      "C:\\ProgramData\\Python\\lib\\site-packages\\h5py\\__init__.py:36: FutureWarning: Conversion of the second argument of issubdtype from `float` to `np.floating` is deprecated. In future, it will be treated as `np.float64 == np.dtype(float).type`.\n",
      "  from ._conv import register_converters as _register_converters\n"
     ]
    }
   ],
   "source": [
    "# tensorflow is a machine learning framework\n",
    "import tensorflow as tf\n",
    "\n",
    "# To visualize data\n",
    "import matplotlib.pyplot as plt\n",
    "\n",
    "#To work with n-dimensional numericals\n",
    "import numpy as np\n",
    "\n",
    "# To work with data\n",
    "import pandas as pd\n",
    "\n",
    "#To Visualize the training of the model\n",
    "from tqdm import tqdm \n",
    "\n",
    "%matplotlib inline"
   ]
  },
  {
   "cell_type": "markdown",
   "metadata": {},
   "source": [
    "### Declaring the required data"
   ]
  },
  {
   "cell_type": "code",
   "execution_count": 2,
   "metadata": {},
   "outputs": [],
   "source": [
    "# created a linearly spaced feature with a dim [1000000 x 1]\n",
    "x_data = np.linspace(0,10,1000000)\n",
    "\n",
    "# Noise is added just to make sure that all the points does not lie on a staright line, \n",
    "# in other words to make the points more dispersed\n",
    "noise = np.random.randn(len(x_data))\n",
    "\n",
    "# Calculating the true value of the target variable by using the slope equals 0.5 and intercept equals 5 with some noise\n",
    "y_true = (0.5*x_data) + 5 + noise"
   ]
  },
  {
   "cell_type": "markdown",
   "metadata": {},
   "source": [
    "### y = mx + b \n",
    "#### m = 0.5                            b = 5 "
   ]
  },
  {
   "cell_type": "code",
   "execution_count": 3,
   "metadata": {},
   "outputs": [],
   "source": [
    "#Converting the faetures and target variable into a dataframe\n",
    "x_df = pd.DataFrame(data=x_data, columns=['x Data'])\n",
    "y_df = pd.DataFrame(data=y_true,columns=['y'])\n",
    "\n",
    "my_data = pd.concat([x_df,y_df],axis =1)"
   ]
  },
  {
   "cell_type": "code",
   "execution_count": 4,
   "metadata": {},
   "outputs": [
    {
     "data": {
      "text/plain": [
       "<matplotlib.axes._subplots.AxesSubplot at 0x20ceaf26908>"
      ]
     },
     "execution_count": 4,
     "metadata": {},
     "output_type": "execute_result"
    },
    {
     "data": {
      "image/png": "[encoded data removed]",
      "text/plain": [
       "<Figure size 432x288 with 1 Axes>"
      ]
     },
     "metadata": {},
     "output_type": "display_data"
    }
   ],
   "source": [
    "# Dataframe - visualization\n",
    "\n",
    "# Since 1 million data points is computationally expensive to plot in a graph\n",
    "# I randomly chose 250 samples from the dataframe to visualize it \n",
    "my_data.sample(n=250).plot(kind='scatter', x='x Data', y='y')"
   ]
  },
  {
   "cell_type": "code",
   "execution_count": 5,
   "metadata": {},
   "outputs": [],
   "source": [
    "# And then using batches to \n",
    "batch_size = 10"
   ]
  },
  {
   "cell_type": "code",
   "execution_count": 6,
   "metadata": {},
   "outputs": [],
   "source": [
    "# Declaring and initialising the tensorflow variables\n",
    "rn = np.random.randn(2)\n",
    "\n",
    "#randomly assigning values to the variables\n",
    "m = tf.Variable(rn[0])\n",
    "b = tf.Variable(rn[1])"
   ]
  },
  {
   "cell_type": "code",
   "execution_count": 7,
   "metadata": {},
   "outputs": [],
   "source": [
    "# Declaring the required placeholders\n",
    "\n",
    "xph = tf.placeholder(tf.float64,[batch_size])\n",
    "yph = tf.placeholder(tf.float64,[batch_size])"
   ]
  },
  {
   "cell_type": "code",
   "execution_count": 8,
   "metadata": {},
   "outputs": [],
   "source": [
    "# Predicted y value for the given slope and intercept\n",
    "y_model = m*xph + b"
   ]
  },
  {
   "cell_type": "code",
   "execution_count": 9,
   "metadata": {},
   "outputs": [],
   "source": [
    "# Calculating the necessary loss function, here we used sum of mean square to calculate the loss function\n",
    "error = tf.reduce_sum(tf.square(yph-y_model))"
   ]
  },
  {
   "cell_type": "code",
   "execution_count": 10,
   "metadata": {},
   "outputs": [],
   "source": [
    "# Declaring the optimizer - Gradient descent algorithm \n",
    "optimizer = tf.train.GradientDescentOptimizer(learning_rate=0.001)\n",
    "\n",
    "# To train the model, we need to minimize the cost/loss function inorder to minimize the error in the predicted value \n",
    "train = optimizer.minimize(error)"
   ]
  },
  {
   "cell_type": "code",
   "execution_count": 11,
   "metadata": {},
   "outputs": [],
   "source": [
    "# Initializing the tensorflow variables, as it is a must to initialize all the tensorflow variables before starting the \n",
    "# session.\n",
    "init = tf.global_variables_initializer()"
   ]
  },
  {
   "cell_type": "code",
   "execution_count": 12,
   "metadata": {},
   "outputs": [
    {
     "name": "stderr",
     "output_type": "stream",
     "text": [
      "Training Progress: 100%|███████████████████████████████████████████████████████| 10000/10000 [00:03<00:00, 2760.50it/s]\n"
     ]
    }
   ],
   "source": [
    "# Initializing the session, i.e start to train the model\n",
    "\n",
    "with tf.Session() as sess:\n",
    "    \n",
    "    sess.run(init)\n",
    "    \n",
    "    batches = 10000\n",
    "    \n",
    "    for i in tqdm(range(batches), desc='Training Progress',leave=True):\n",
    "        \n",
    "        #randomly choosing a index position and fitting it into the training set\n",
    "        # as the probability of 1 set repeating is 1/1000000 which is very low\n",
    "        rand_ind = np.random.randint(len(x_data),size=batch_size)\n",
    "        \n",
    "        feed = {xph:x_data[rand_ind], yph:y_true[rand_ind]}\n",
    "        \n",
    "        sess.run(train,feed_dict = feed)\n",
    "    \n",
    "    model_m, model_b = sess.run([m,b])"
   ]
  },
  {
   "cell_type": "code",
   "execution_count": 13,
   "metadata": {},
   "outputs": [],
   "source": [
    "# Predicting the line y=mx+b\n",
    "y_hat = x_data*model_m + model_b"
   ]
  },
  {
   "cell_type": "code",
   "execution_count": 14,
   "metadata": {
    "scrolled": true
   },
   "outputs": [
    {
     "data": {
      "text/plain": [
       "[<matplotlib.lines.Line2D at 0x20ceb862710>]"
      ]
     },
     "execution_count": 14,
     "metadata": {},
     "output_type": "execute_result"
    },
    {
     "data": {
      "image/png": "[encoded data removed]",
      "text/plain": [
       "<Figure size 432x288 with 1 Axes>"
      ]
     },
     "metadata": {},
     "output_type": "display_data"
    }
   ],
   "source": [
    "# Visualizing the results\n",
    "my_data.sample(n=250).plot(kind='scatter',x='x Data',y='y')\n",
    "plt.plot(x_data,y_hat,'r-')"
   ]
  },
  {
   "cell_type": "code",
   "execution_count": 15,
   "metadata": {},
   "outputs": [
    {
     "name": "stdout",
     "output_type": "stream",
     "text": [
      "  True Slope= 0.5    Predicted Slope=  0.4667404373235158\n",
      "\n",
      "True Intercept= 5    Predicted Intercept=  5.085202336551883\n"
     ]
    }
   ],
   "source": [
    "#Checking the accuracy of the model\n",
    "print('  True Slope= 0.5    Predicted Slope= ',model_m)\n",
    "print('\\nTrue Intercept= 5    Predicted Intercept= ',model_b)"
   ]
  },
  {
   "cell_type": "markdown",
   "metadata": {},
   "source": [
    "# THE END"
   ]
  }
 ],
 "metadata": {
  "kernelspec": {
   "display_name": "Python 3",
   "language": "python",
   "name": "python3"
  },
  "language_info": {
   "codemirror_mode": {
    "name": "ipython",
    "version": 3
   },
   "file_extension": ".py",
   "mimetype": "text/x-python",
   "name": "python",
   "nbconvert_exporter": "python",
   "pygments_lexer": "ipython3",
   "version": "3.6.5"
  }
 },
 "nbformat": 4,
 "nbformat_minor": 2
}
